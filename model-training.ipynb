{
 "cells": [
  {
   "cell_type": "markdown",
   "metadata": {
    "colab_type": "text",
    "id": "EAQoosm5LEb8"
   },
   "source": [
    "# Dotscience Roadsigns Demo"
   ]
  },
  {
   "cell_type": "code",
   "execution_count": null,
   "metadata": {
    "colab": {
     "base_uri": "https://localhost:8080/",
     "height": 34
    },
    "colab_type": "code",
    "id": "9lqdQLFrLEb9",
    "outputId": "3792dc60-34ef-4cf5-e2e9-0ff1c08f6a1d"
   },
   "outputs": [],
   "source": [
    "import dotscience as ds\n",
    "import numpy as np\n",
    "import pandas as pd\n",
    "import pickle\n",
    "import os\n",
    "import cv2\n",
    "import random\n",
    "import skimage.morphology as morp\n",
    "from skimage.filters import rank\n",
    "from skimage.transform import resize\n",
    "import matplotlib.pyplot as plt\n",
    "import tensorflow as tf\n",
    "import logging\n",
    "import scipy\n",
    "logging.getLogger('tensorflow').disabled = True"
   ]
  },
  {
   "cell_type": "code",
   "execution_count": null,
   "metadata": {
    "colab": {},
    "colab_type": "code",
    "id": "nwcjv74qLEcA"
   },
   "outputs": [],
   "source": [
    "ds.start()\n",
    "DATASET = \"databricks\"\n",
    "ds.parameter(\"dataset\", DATASET)"
   ]
  },
  {
   "cell_type": "code",
   "execution_count": null,
   "metadata": {},
   "outputs": [],
   "source": [
    "def transform_pickle(loaded):\n",
    "    \"\"\"\n",
    "    Convert a pandas (image, label) pandas dataset, where image is a pyspark\n",
    "    image, to a {features: [list of image data], labels: [list of label ids]}\n",
    "    format as expected by the rest of this script.\n",
    "    \n",
    "    Also resize the images to fit the expected 32x32x3 array shape.\n",
    "    \n",
    "    See: https://spark.apache.org/docs/2.3.0/api/python/pyspark.ml.html#pyspark.ml.image._ImageSchema.toNDArray\n",
    "    \"\"\"\n",
    "    labels = loaded[\"label\"].values\n",
    "    images = np.zeros((len(loaded[\"image\"]), 32, 32, 3), dtype=np.uint8)\n",
    "\n",
    "    for idx, image in enumerate(loaded[\"image\"]):\n",
    "        height = image[\"height\"]\n",
    "        width = image[\"width\"]\n",
    "        nChannels = image[\"nChannels\"]\n",
    "        ndimg = np.ndarray(\n",
    "            shape=(height, width, nChannels),\n",
    "            dtype=np.uint8,\n",
    "            buffer=image[\"data\"],\n",
    "            strides=(width * nChannels, nChannels, 1))\n",
    "        images[idx] = resize(ndimg, (32, 32))\n",
    "    \n",
    "    return {\"features\": np.asarray(images), \"labels\": labels}"
   ]
  },
  {
   "cell_type": "code",
   "execution_count": null,
   "metadata": {
    "colab": {},
    "colab_type": "code",
    "id": "d6-u3iChLEcD"
   },
   "outputs": [],
   "source": [
    "train = transform_pickle(pickle.load(open(ds.input(\"../data/%s-train.p\" % (DATASET,)),\"rb\")))\n",
    "valid = transform_pickle(pickle.load(open(ds.input(\"../data/%s-validate.p\" % (DATASET,)),\"rb\")))\n",
    "test = transform_pickle(pickle.load(open(ds.input(\"../data/%s-test.p\" % (DATASET,)),\"rb\")))"
   ]
  },
  {
   "cell_type": "code",
   "execution_count": null,
   "metadata": {},
   "outputs": [],
   "source": [
    "train['features'].shape"
   ]
  },
  {
   "cell_type": "code",
   "execution_count": null,
   "metadata": {},
   "outputs": [],
   "source": [
    "orig = pickle.load(open(ds.input(\"../test.p\"),\"rb\"))"
   ]
  },
  {
   "cell_type": "code",
   "execution_count": null,
   "metadata": {},
   "outputs": [],
   "source": [
    "orig['features'].shape"
   ]
  },
  {
   "cell_type": "code",
   "execution_count": null,
   "metadata": {
    "colab": {
     "base_uri": "https://localhost:8080/",
     "height": 34
    },
    "colab_type": "code",
    "id": "uHDK8qpJLEcF",
    "outputId": "6504df24-3fee-493f-dd48-e4db42e0c604"
   },
   "outputs": [],
   "source": [
    "import csv\n",
    "# Mapping ClassID to traffic sign names\n",
    "signs = []\n",
    "with open(ds.input('../data/signnames.csv'), 'r') as csvfile:\n",
    "    signnames = csv.reader(csvfile, delimiter=',')\n",
    "    next(signnames,None)\n",
    "    for row in signnames:\n",
    "        signs.append(row[1])\n",
    "    csvfile.close()"
   ]
  },
  {
   "cell_type": "code",
   "execution_count": null,
   "metadata": {
    "colab": {
     "base_uri": "https://localhost:8080/",
     "height": 102
    },
    "colab_type": "code",
    "id": "1PaeZQvnLEcJ",
    "outputId": "c8d063dc-8531-4d69-da2b-4168b67258f8"
   },
   "outputs": [],
   "source": [
    "X_train, y_train = train['features'], train['labels']\n",
    "X_valid, y_valid = valid['features'], valid['labels']\n",
    "X_test, y_test = test['features'], test['labels']\n",
    "\n",
    "# Number of training examples\n",
    "n_train = X_train.shape[0]\n",
    "\n",
    "# Number of testing examples\n",
    "n_test = X_test.shape[0]\n",
    "\n",
    "# Number of validation examples.\n",
    "n_validation = X_valid.shape[0]\n",
    "\n",
    "# What's the shape of an traffic sign image?\n",
    "image_shape = X_train[0].shape\n",
    "\n",
    "# How many unique classes/labels there are in the dataset.\n",
    "n_classes = len(np.unique(y_train))\n",
    "\n",
    "print(\"Number of training examples: \", n_train)\n",
    "print(\"Number of testing examples: \", n_test)\n",
    "print(\"Number of validation examples: \", n_validation)\n",
    "print(\"Image data shape =\", image_shape)\n",
    "print(\"Number of classes =\", n_classes)"
   ]
  },
  {
   "cell_type": "code",
   "execution_count": null,
   "metadata": {
    "colab": {
     "base_uri": "https://localhost:8080/",
     "height": 34
    },
    "colab_type": "code",
    "id": "W8LLewhLLEcL",
    "outputId": "5260c4af-4901-48fc-e6ad-0ec291e410ad"
   },
   "outputs": [],
   "source": [
    "X_train[0].shape"
   ]
  },
  {
   "cell_type": "markdown",
   "metadata": {
    "colab_type": "text",
    "id": "HA_hpKhSLEcO"
   },
   "source": [
    "# Preprocess data"
   ]
  },
  {
   "cell_type": "code",
   "execution_count": null,
   "metadata": {
    "colab": {},
    "colab_type": "code",
    "id": "g0WXq0oHLEcP"
   },
   "outputs": [],
   "source": [
    "# define helper functions\n",
    "def list_images(dataset, dataset_y, ylabel=\"\", cmap=None):\n",
    "    \"\"\"\n",
    "    Display a list of images in a single figure with matplotlib.\n",
    "        Parameters:\n",
    "            images: An np.array compatible with plt.imshow.\n",
    "            lanel (Default = No label): A string to be used as a label for each image.\n",
    "            cmap (Default = None): Used to display gray images.\n",
    "    \"\"\"\n",
    "    plt.figure(figsize=(15, 16))\n",
    "    for i in range(6):\n",
    "        plt.subplot(1, 6, i+1)\n",
    "        indx = random.randint(0, len(dataset))\n",
    "        #Use gray scale color map if there is only one channel\n",
    "        cmap = 'gray' if len(dataset[indx].shape) == 2 else cmap\n",
    "        plt.imshow(dataset[indx], cmap = cmap)\n",
    "        plt.xlabel(signs[dataset_y[indx]])\n",
    "        plt.ylabel(ylabel)\n",
    "        plt.xticks([])\n",
    "        plt.yticks([])\n",
    "    plt.tight_layout(pad=0, h_pad=0, w_pad=0)\n",
    "    plt.show()\n",
    "    \n",
    "def histogram_plot(dataset, label):\n",
    "    \"\"\"\n",
    "    Plots a histogram of the input data.\n",
    "        Parameters:\n",
    "            dataset: Input data to be plotted as a histogram.\n",
    "            lanel: A string to be used as a label for the histogram.\n",
    "    \"\"\"\n",
    "    hist, bins = np.histogram(dataset, bins=n_classes)\n",
    "    width = 0.7 * (bins[1] - bins[0])\n",
    "    center = (bins[:-1] + bins[1:]) / 2\n",
    "    plt.bar(center, hist, align='center', width=width)\n",
    "    plt.xlabel(label)\n",
    "    plt.ylabel(\"Image count\")\n",
    "    plt.show()\n",
    "    \n",
    "def gray_scale(image):\n",
    "    \"\"\"\n",
    "    Convert images to gray scale.\n",
    "        Parameters:\n",
    "            image: An np.array compatible with plt.imshow.\n",
    "    \"\"\"\n",
    "    return cv2.cvtColor(image, cv2.COLOR_RGB2GRAY)\n",
    "\n",
    "def local_histo_equalize(image):\n",
    "    \"\"\"\n",
    "    Apply local histogram equalization to grayscale images.\n",
    "        Parameters:\n",
    "            image: A grayscale image.\n",
    "    \"\"\"\n",
    "    kernel = morp.disk(30)\n",
    "    img_local = rank.equalize(image, selem=kernel)\n",
    "    return img_local\n",
    "\n",
    "def image_normalize(image):\n",
    "    \"\"\"\n",
    "    Normalize images to [0, 1] scale.\n",
    "        Parameters:\n",
    "            image: An np.array compatible with plt.imshow.\n",
    "    \"\"\"\n",
    "    image = np.divide(image, 255)\n",
    "    return image\n",
    "\n",
    "def preprocess(data):\n",
    "    \"\"\"\n",
    "    Applying the preprocessing steps to the input data.\n",
    "        Parameters:\n",
    "            data: An np.array compatible with plt.imshow.\n",
    "    \"\"\"\n",
    "    gray_images = list(map(gray_scale, data))\n",
    "    equalized_images = list(map(local_histo_equalize, gray_images))\n",
    "    n_training = data.shape\n",
    "    normalized_images = np.zeros((n_training[0], n_training[1], n_training[2]))\n",
    "    for i, img in enumerate(equalized_images):\n",
    "        normalized_images[i] = image_normalize(img)\n",
    "    normalized_images = normalized_images[..., None]\n",
    "    return normalized_images"
   ]
  },
  {
   "cell_type": "code",
   "execution_count": null,
   "metadata": {
    "colab": {},
    "colab_type": "code",
    "id": "2TkMteOrLEcR"
   },
   "outputs": [],
   "source": [
    "X_valid_preprocessed = preprocess(X_valid)\n",
    "X_test_preprocessed = preprocess(X_test)\n",
    "X_train_preprocessed = preprocess(X_train)"
   ]
  },
  {
   "cell_type": "code",
   "execution_count": null,
   "metadata": {},
   "outputs": [],
   "source": [
    "X_train_preprocessed.shape\n",
    "y_train.shape"
   ]
  },
  {
   "cell_type": "markdown",
   "metadata": {
    "colab_type": "text",
    "id": "GQas32gfLEcW"
   },
   "source": [
    "# Train & test model"
   ]
  },
  {
   "cell_type": "markdown",
   "metadata": {
    "colab_type": "text",
    "id": "k4KM_teTNDqa"
   },
   "source": [
    "## Decoder model\n",
    "\n",
    "Uses `tf.keras` to decode base64, and resize the image to a tensor of shape (32, 32, 1).\n",
    "\n",
    "Note that this model _must_ be supplied urlsafe base64. You can convert regular base64 to urlsafe using Python's [`base64` module](https://docs.python.org/3.7/library/base64.html)."
   ]
  },
  {
   "cell_type": "code",
   "execution_count": null,
   "metadata": {
    "colab": {},
    "colab_type": "code",
    "id": "M4UwQPXsNMmg"
   },
   "outputs": [],
   "source": [
    "def preprocess_and_decode(img_str):\n",
    "    #print(\"[preprocess_and_decode] got %s\" % (img_str,))\n",
    "    img = tf.io.decode_base64(img_str)\n",
    "    img = tf.image.decode_jpeg(img, channels=1)\n",
    "    img = tf.image.resize_images(img, (32, 32))\n",
    "    img = tf.cast(img, tf.float32)\n",
    "    #img = preprocess(tf.Tensor([img]))\n",
    "    return img\n",
    "  \n",
    "InputLayer = tf.keras.Input(shape = (1,),dtype=\"string\")\n",
    "OutputLayer = tf.keras.layers.Lambda(lambda img : tf.map_fn(lambda im : preprocess_and_decode(im[0]), img, dtype=\"float32\"))(InputLayer)\n",
    "base64_model = tf.keras.Model(InputLayer, OutputLayer)\n"
   ]
  },
  {
   "cell_type": "markdown",
   "metadata": {
    "colab_type": "text",
    "id": "paiHkUv1NHUV"
   },
   "source": [
    "## Convolutional neural net\n"
   ]
  },
  {
   "cell_type": "code",
   "execution_count": null,
   "metadata": {
    "colab": {
     "base_uri": "https://localhost:8080/",
     "height": 68
    },
    "colab_type": "code",
    "id": "MXYEnlKnLEcW",
    "outputId": "396224c6-0c75-4697-bcf9-555eb6a73c91"
   },
   "outputs": [],
   "source": [
    "num_classes=43\n",
    "conv = tf.keras.models.Sequential()\n",
    "conv.add(tf.keras.layers.Conv2D(32, kernel_size=(5, 5), strides=(1, 1), activation='relu', input_shape=(32, 32, 1)))\n",
    "conv.add(tf.keras.layers.MaxPooling2D(pool_size=(2, 2), strides=(2, 2)))\n",
    "conv.add(tf.keras.layers.Conv2D(32, (5, 5), activation='relu'))\n",
    "conv.add(tf.keras.layers.MaxPooling2D(pool_size=(2, 2)))\n",
    "conv.add(tf.keras.layers.Flatten())\n",
    "conv.add(tf.keras.layers.Dense(1000, activation='relu'))\n",
    "conv.add(tf.keras.layers.Dense(units = num_classes, activation='softmax'))\n",
    "\n",
    "conv.compile(optimizer=ds.parameter(\"optimizer\", 'adam'),\n",
    "              loss='sparse_categorical_crossentropy',\n",
    "              metrics=['accuracy'])\n",
    "\n",
    "es = tf.keras.callbacks.EarlyStopping(monitor='acc')\n",
    "\n",
    "conv.fit(X_train_preprocessed, y_train,\n",
    "          epochs=ds.parameter(\"epochs\", 3),\n",
    "          verbose=1,\n",
    "          validation_data=(X_valid_preprocessed, y_valid),\n",
    "          callbacks=[es])"
   ]
  },
  {
   "cell_type": "code",
   "execution_count": null,
   "metadata": {
    "colab": {},
    "colab_type": "code",
    "id": "bvrR5aacLEca"
   },
   "outputs": [],
   "source": [
    "ds.summary(\"accuracy\", conv.evaluate(X_test_preprocessed, y_test)[1])"
   ]
  },
  {
   "cell_type": "markdown",
   "metadata": {
    "colab_type": "text",
    "id": "h7WnqC7FOJaj"
   },
   "source": [
    "## Combined model of models\n",
    "\n",
    "We wire up the decoder and the convolutional neural net, so we can serve them both as a single model.\n"
   ]
  },
  {
   "cell_type": "code",
   "execution_count": null,
   "metadata": {
    "colab": {},
    "colab_type": "code",
    "id": "woc5FvEJONHa"
   },
   "outputs": [],
   "source": [
    "base64_input = base64_model.input\n",
    "final_output = conv(base64_model.output)\n",
    "model = tf.keras.Model(base64_input,final_output)"
   ]
  },
  {
   "cell_type": "markdown",
   "metadata": {
    "colab_type": "text",
    "id": "kPMmvjKlLEcd"
   },
   "source": [
    "# Save the `SavedModel` model to Dotscience\n"
   ]
  },
  {
   "cell_type": "code",
   "execution_count": null,
   "metadata": {
    "colab": {
     "base_uri": "https://localhost:8080/",
     "height": 238
    },
    "colab_type": "code",
    "id": "ZMXt3Ac9LEce",
    "outputId": "46482c29-efc5-4c09-8cce-73aa60d8b6c2"
   },
   "outputs": [],
   "source": [
    "# Fetch the Keras session and save the model\n",
    "# The signature definition is defined by the input and output tensors,\n",
    "# and stored with the default serving key\n",
    "import tempfile\n",
    "\n",
    "MODEL_DIR = \"../model\"\n",
    "version = 1\n",
    "export_path = os.path.join(MODEL_DIR, str(version))\n",
    "print('export_path = {}\\n'.format(export_path))\n",
    "if os.path.isdir(export_path):\n",
    "  print('\\nAlready saved a model, cleaning up\\n')\n",
    "  !rm -r {export_path}\n",
    "\n",
    "tf.saved_model.simple_save(\n",
    "    tf.keras.backend.get_session(),\n",
    "    export_path,\n",
    "    inputs={'input_image_bytes': model.input}, \n",
    "    outputs={t.name:t for t in model.outputs})\n",
    "\n",
    "ds.output(MODEL_DIR)\n",
    "\n",
    "print('\\nSaved model:')\n",
    "!ls -l {export_path}"
   ]
  },
  {
   "cell_type": "code",
   "execution_count": null,
   "metadata": {
    "colab": {
     "base_uri": "https://localhost:8080/",
     "height": 272
    },
    "colab_type": "code",
    "id": "nI3HxuOWLEch",
    "outputId": "ce4dfe85-71d4-4ef8-808f-b991970a4ac5"
   },
   "outputs": [],
   "source": [
    "!saved_model_cli show --dir {export_path} --all"
   ]
  },
  {
   "cell_type": "code",
   "execution_count": null,
   "metadata": {
    "colab": {
     "base_uri": "https://localhost:8080/",
     "height": 34
    },
    "colab_type": "code",
    "id": "fPCFWNhpLEci",
    "outputId": "6c562e35-ea68-4aaa-ab0d-2bbe7338f954"
   },
   "outputs": [],
   "source": [
    "ds.label(\"model.directory\", \"model\")\n",
    "ds.label(\"model.framework\", \"tensorflow\")\n",
    "ds.label(\"model.framework.version\", tf.__version__)"
   ]
  },
  {
   "cell_type": "code",
   "execution_count": null,
   "metadata": {
    "colab": {},
    "colab_type": "code",
    "id": "D1b2oKEgLEcn"
   },
   "outputs": [],
   "source": [
    "ds.publish(\"trained tensorflow model\")"
   ]
  },
  {
   "cell_type": "code",
   "execution_count": null,
   "metadata": {},
   "outputs": [],
   "source": []
  }
 ],
 "metadata": {
  "colab": {
   "collapsed_sections": [],
   "name": "b64roadsigns.ipynb",
   "provenance": [],
   "toc_visible": true,
   "version": "0.3.2"
  },
  "kernelspec": {
   "display_name": "Python 3",
   "language": "python",
   "name": "python3"
  },
  "language_info": {
   "codemirror_mode": {
    "name": "ipython",
    "version": 3
   },
   "file_extension": ".py",
   "mimetype": "text/x-python",
   "name": "python",
   "nbconvert_exporter": "python",
   "pygments_lexer": "ipython3",
   "version": "3.6.8"
  }
 },
 "nbformat": 4,
 "nbformat_minor": 4
}
