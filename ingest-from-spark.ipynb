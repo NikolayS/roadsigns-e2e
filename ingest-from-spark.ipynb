{
 "cells": [
  {
   "cell_type": "code",
   "execution_count": null,
   "metadata": {},
   "outputs": [],
   "source": [
    "%env SPARK_HOME /usr/local/lib/python3.6/dist-packages/pyspark"
   ]
  },
  {
   "cell_type": "code",
   "execution_count": null,
   "metadata": {},
   "outputs": [],
   "source": [
    "!pip install pyarrow"
   ]
  },
  {
   "cell_type": "code",
   "execution_count": null,
   "metadata": {},
   "outputs": [],
   "source": [
    "# Data engineering in Dotscience\n",
    "# ==============================\n",
    "#\n",
    "# In this notebook, we take a raw dataset from Databricks,\n",
    "# split it into training, test and validation sets, and persist\n",
    "# a snapshot to the Dotscience filesystem for reproducibility.\n",
    "\n",
    "import dotscience as ds\n",
    "import numpy as np\n",
    "import pickle\n",
    "import os\n",
    "from pyspark.sql import SparkSession\n",
    "from pyspark.ml import image\n",
    "\n",
    "ds.start()\n",
    "\n",
    "SEED = 42\n",
    "\n",
    "spark = SparkSession.builder.getOrCreate()\n",
    "df = spark.table(\"gtsrb\")\n",
    "\n",
    "if not os.path.exists(\"../data\"):\n",
    "    os.mkdir(\"../data\")\n",
    "\n",
    "# Sample the data\n",
    "train_df, test_df, validate_df = df.randomSplit([0.6, 0.3, 0.1], seed=SEED)\n",
    "\n",
    "for name, df in ((\"train\", train_df), (\"test\", test_df), (\"validate\", validate_df)):\n",
    "    result = df.toPandas()\n",
    "    pickle.dump(result, open(ds.output(\"../data/databricks-%s.p\" % (name,)), \"wb\"))\n",
    "\n",
    "ds.publish(\"ingested data from spark\")"
   ]
  }
 ],
 "metadata": {
  "kernelspec": {
   "display_name": "Python 3",
   "language": "python",
   "name": "python3"
  },
  "language_info": {
   "codemirror_mode": {
    "name": "ipython",
    "version": 3
   },
   "file_extension": ".py",
   "mimetype": "text/x-python",
   "name": "python",
   "nbconvert_exporter": "python",
   "pygments_lexer": "ipython3",
   "version": "3.6.8"
  }
 },
 "nbformat": 4,
 "nbformat_minor": 4
}
