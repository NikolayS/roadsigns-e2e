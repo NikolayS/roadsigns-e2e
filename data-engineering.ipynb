{
 "cells": [
  {
   "cell_type": "markdown",
   "metadata": {},
   "source": [
    "# Data engineering in Dotscience\n",
    "\n",
    "In this notebook, we take a raw dataset from S3, and split it into two modelling sets: a small and large, each containing training, test and validation sets. "
   ]
  },
  {
   "cell_type": "code",
   "execution_count": null,
   "metadata": {},
   "outputs": [],
   "source": [
    "import dotscience as ds\n",
    "import numpy as np\n",
    "import pickle\n",
    "import os"
   ]
  },
  {
   "cell_type": "code",
   "execution_count": null,
   "metadata": {},
   "outputs": [],
   "source": [
    "ds.start()\n",
    "\n",
    "roadsigns = pickle.load(open(ds.input(\"../s3/roadsigns.p\"),\"rb\"))"
   ]
  },
  {
   "cell_type": "code",
   "execution_count": null,
   "metadata": {},
   "outputs": [],
   "source": [
    "len(roadsigns['labels'])"
   ]
  },
  {
   "cell_type": "markdown",
   "metadata": {},
   "source": [
    "### Plan for splitting data\n",
    "\n",
    "51,839 samples, let's construct two datasets for training models...\n",
    "\n",
    "* small\n",
    "  * 10k train\n",
    "  * 1k test\n",
    "  * 500 validate\n",
    "* large\n",
    "  * 50k train\n",
    "  * 1k test\n",
    "  * 839 validate"
   ]
  },
  {
   "cell_type": "code",
   "execution_count": null,
   "metadata": {},
   "outputs": [],
   "source": [
    "if not os.path.exists(\"../data\"):\n",
    "    os.mkdir(\"../data\")"
   ]
  },
  {
   "cell_type": "code",
   "execution_count": null,
   "metadata": {},
   "outputs": [],
   "source": [
    "# Shuffle the data otherwise the small training set is\n",
    "# almost all one type of roadsign and gets crap accuracy\n",
    "\n",
    "SEED = 42\n",
    "\n",
    "for k in roadsigns.keys():\n",
    "    # Very important that we set the seed every time\n",
    "    # so that each shuffle of the keys is the same\n",
    "    np.random.seed(SEED)\n",
    "    np.random.shuffle(roadsigns[k])\n",
    "\n",
    "# Sample ranges of the data\n",
    "\n",
    "samples = [{\"small-train\": 10000, \"small-test\": 1000, \"small-validate\": 500},\n",
    "           {\"large-train\": 50000, \"large-test\": 1000, \"large-validate\": 839}]\n",
    "\n",
    "for sampleset in samples:\n",
    "    i = 0\n",
    "    for k in sorted(sampleset.keys()):\n",
    "        count = sampleset[k]\n",
    "        range_start = i\n",
    "        range_end = i+count\n",
    "        i += count\n",
    "        print (\"sample\", k, \"start\", range_start, \"end\", range_end)\n",
    "        result = {x: roadsigns[x][range_start:range_end] for x in roadsigns.keys()}\n",
    "        pickle.dump(result, open(ds.output(\"../data/%s.p\" % (k,)), \"wb\"))"
   ]
  },
  {
   "cell_type": "code",
   "execution_count": null,
   "metadata": {},
   "outputs": [],
   "source": [
    "from shutil import copyfile\n",
    "# just make a copy of the labels so we keep them together with the data\n",
    "copyfile(ds.input(\"../s3/signnames.csv\"), ds.output(\"../data/signnames.csv\"))"
   ]
  },
  {
   "cell_type": "code",
   "execution_count": null,
   "metadata": {},
   "outputs": [],
   "source": [
    "ds.publish(\"created small and large sample sets\")"
   ]
  },
  {
   "cell_type": "code",
   "execution_count": null,
   "metadata": {},
   "outputs": [],
   "source": []
  }
 ],
 "metadata": {
  "kernelspec": {
   "display_name": "Python 3",
   "language": "python",
   "name": "python3"
  },
  "language_info": {
   "codemirror_mode": {
    "name": "ipython",
    "version": 3
   },
   "file_extension": ".py",
   "mimetype": "text/x-python",
   "name": "python",
   "nbconvert_exporter": "python",
   "pygments_lexer": "ipython3",
   "version": "3.6.8"
  }
 },
 "nbformat": 4,
 "nbformat_minor": 4
}
